{
  "nbformat": 4,
  "nbformat_minor": 0,
  "metadata": {
    "colab": {
      "provenance": []
    },
    "kernelspec": {
      "name": "python3",
      "display_name": "Python 3"
    },
    "language_info": {
      "name": "python"
    }
  },
  "cells": [
    {
      "cell_type": "markdown",
      "source": [
        "*Nombre de Grupos*: Grupo 1\n",
        "\n",
        "*Integrantes*:\n",
        "\n",
        "-Cevasco, Jorge\n",
        "\n",
        "-Padilla, Ramiro\n",
        "\n",
        "-Ranieri, Martina"
      ],
      "metadata": {
        "id": "3KErC3dKu6Pv"
      }
    },
    {
      "cell_type": "markdown",
      "source": [
        "## **Ejercicio**: Visualizar Difference of Gaussians (DoG)\n",
        "\n",
        "Implementar una piramide Gaussiana (Aplicar un filtro Gaussiano consecutivamente a una imagen) y calcular Difference of Gaussians (DoG) para una imagen de entrada. Visualizar el resultado."
      ],
      "metadata": {
        "id": "G8hplGVaoBkb"
      }
    },
    {
      "cell_type": "code",
      "execution_count": null,
      "metadata": {
        "id": "2jxLVt6Cn4Cs"
      },
      "outputs": [],
      "source": [
        "import numpy as np\n",
        "import matplotlib.pyplot as plt\n",
        "from skimage import io, color, filters, data\n",
        "from scipy import ndimage\n",
        "\n",
        "# Cargamos una imagen y la pasamos a gris.\n",
        "image = data.camera()\n",
        "#gray = color.rgb2gray(image)\n",
        "\n",
        "# Definimos la escalas de sigmas que usaremos en la piramide.\n",
        "sigmas = [1.0, 2.0, 4.0, 8.0]\n",
        "gaussians = []\n",
        "\n",
        "# Generamos las imagenes blureadas\n",
        "for sigma in sigmas:\n",
        "    imagen_blur = filters.gaussian(image, sigma)\n",
        "    gaussians.append(imagen_blur)\n",
        "\n",
        "# Calculamos DoG (Difference of Gaussians)\n",
        "diferencias = [1, -1]\n",
        "dogs = []\n",
        "for i in range(len(gaussians)-1):\n",
        "  dogs.append(gaussians[i+1]-gaussians[i])\n",
        "\n",
        "for dog in dogs:\n",
        "  n,m = dog.shape\n",
        "  for i in range(1,n-1):\n",
        "    for j in range(1,m-1):\n",
        "      cuadro = dog[i-1:i+2, j-1:j+2]\n",
        "      if ((dog[i,j] > cuadro.min()) and (dog[i,j] < cuadro.max())):\n",
        "        dog[i,j] = 0\n",
        "\n",
        "\n",
        "for dog in dogs:\n",
        "  dog[np.nonzero(dog)] = 255\n",
        "\n",
        "\n",
        "#np.nonzero(dogs)\n",
        "\n",
        "fig, axes = plt.subplots(1, len(dogs), figsize=(15, 5))\n",
        "for i, ax in enumerate(axes):\n",
        "    ax.imshow(dogs[i], cmap='gray')\n",
        "    ax.set_title(f'DoG {i+1}: σ={sigmas[i+1]} - σ={sigmas[i]}')\n",
        "    ax.axis('off')\n",
        "\n",
        "plt.tight_layout()\n",
        "plt.show()"
      ]
    },
    {
      "cell_type": "markdown",
      "source": [
        "## **Muestra**: Deteccion de Keypoint y Matcheo\n",
        "\n",
        "Detectar keypoints de SIFT en dos imagenes y matchear los descriptores.Visualizamos el matcheo.\n"
      ],
      "metadata": {
        "id": "-JL5eD_uoLYY"
      }
    },
    {
      "cell_type": "code",
      "source": [
        "from skimage import data, color, feature, transform\n",
        "from skimage.feature import match_descriptors, plot_matched_features\n",
        "import matplotlib.pyplot as plt\n",
        "import numpy as np\n",
        "\n",
        "# Cargamos una imagen de ejemplo\n",
        "image1 = color.rgb2gray(data.astronaut())\n",
        "\n",
        "# Creamos una copia transformada para poder matchear\n",
        "tform = transform.AffineTransform(scale=(0.8, 0.8), rotation=np.deg2rad(25), translation=(50, -30))\n",
        "image2 = transform.warp(image1, tform.inverse)\n",
        "\n",
        "# Inicializamos Sift y encontramos los keypoints\n",
        "sift1 = feature.SIFT()\n",
        "sift1.detect_and_extract(image1)\n",
        "\n",
        "sift2 = feature.SIFT()\n",
        "sift2.detect_and_extract(image2)\n",
        "\n",
        "# Macheamos los keypoints entre las dos imagenes\n",
        "matches = match_descriptors(sift1.descriptors, sift2.descriptors, cross_check=True)\n",
        "\n",
        "fig, ax = plt.subplots(figsize=(12, 6))\n",
        "\n",
        "plot_matched_features(\n",
        "    image1,\n",
        "    image2,\n",
        "    keypoints0=sift1.keypoints,\n",
        "    keypoints1=sift2.keypoints,\n",
        "    matches=matches[::15], # Mostramos solo algunos matches para que sea facil de ver.\n",
        "    ax=ax)\n",
        "\n",
        "ax.axis('off')\n",
        "ax.set_title('SIFT Matcheo de Keypoints (Original vs Transformada)')\n",
        "plt.show()"
      ],
      "metadata": {
        "id": "AW_bSH-PoIPk"
      },
      "execution_count": null,
      "outputs": []
    }
  ]
}